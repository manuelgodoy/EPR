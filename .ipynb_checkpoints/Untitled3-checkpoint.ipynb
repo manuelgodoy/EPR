{
 "cells": [
  {
   "cell_type": "code",
   "execution_count": 1,
   "metadata": {
    "collapsed": true
   },
   "outputs": [],
   "source": [
    "from pyftdi.ftdi import Ftdi\n",
    "from pylibftdi import Device\n",
    "\n",
    "VENDOR = 0x0403\n",
    "PRODUCT = 0x6001\n",
    "\n",
    "class Controller(Ftdi):\n",
    "    def __init__(self):\n",
    "#         super(Controller, self).__init__()\n",
    "        Ftdi.baudrate = 115200\n",
    "\n",
    "    def open(vendor = VENDOR, product = PRODUCT, interface = 1):\n",
    "        super(Controller, self).open(vendor = vendor, product = product, interface = interface)"
   ]
  },
  {
   "cell_type": "code",
   "execution_count": 2,
   "metadata": {
    "collapsed": true
   },
   "outputs": [],
   "source": [
    "c = Controller()\n"
   ]
  },
  {
   "cell_type": "code",
   "execution_count": 3,
   "metadata": {
    "collapsed": false
   },
   "outputs": [
    {
     "data": {
      "text/plain": [
       "-1"
      ]
     },
     "execution_count": 3,
     "metadata": {},
     "output_type": "execute_result"
    }
   ],
   "source": [
    "c.baudrate\n"
   ]
  },
  {
   "cell_type": "code",
   "execution_count": null,
   "metadata": {
    "collapsed": true
   },
   "outputs": [],
   "source": []
  }
 ],
 "metadata": {
  "kernelspec": {
   "display_name": "Python 2",
   "language": "python",
   "name": "python2"
  },
  "language_info": {
   "codemirror_mode": {
    "name": "ipython",
    "version": 2
   },
   "file_extension": ".py",
   "mimetype": "text/x-python",
   "name": "python",
   "nbconvert_exporter": "python",
   "pygments_lexer": "ipython2",
   "version": "2.7.10"
  }
 },
 "nbformat": 4,
 "nbformat_minor": 0
}
