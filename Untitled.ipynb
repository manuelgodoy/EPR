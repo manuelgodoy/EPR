{
 "cells": [
  {
   "cell_type": "code",
   "execution_count": 1,
   "metadata": {
    "collapsed": true
   },
   "outputs": [],
   "source": [
    "headers = ['Field','X','Y','R','Rdb','Theta','XdB','Sens','TC',\\\n",
    "'Resonance Freq','Tx Power','Voltage Magnet','Modulation Amplitude',\\\n",
    "'Modulation Frequency','Time']\n",
    "data = dict.fromkeys(headers,[])"
   ]
  },
  {
   "cell_type": "code",
   "execution_count": 2,
   "metadata": {
    "collapsed": false
   },
   "outputs": [
    {
     "data": {
      "text/plain": [
       "{'Field': [],\n",
       " 'Modulation Amplitude': [],\n",
       " 'Modulation Frequency': [],\n",
       " 'R': [],\n",
       " 'Rdb': [],\n",
       " 'Resonance Freq': [],\n",
       " 'Sens': [],\n",
       " 'TC': [],\n",
       " 'Theta': [],\n",
       " 'Time': [],\n",
       " 'Tx Power': [],\n",
       " 'Voltage Magnet': [],\n",
       " 'X': [],\n",
       " 'XdB': [],\n",
       " 'Y': []}"
      ]
     },
     "execution_count": 2,
     "metadata": {},
     "output_type": "execute_result"
    }
   ],
   "source": [
    "data"
   ]
  },
  {
   "cell_type": "code",
   "execution_count": 3,
   "metadata": {
    "collapsed": true
   },
   "outputs": [],
   "source": [
    "data['Field'].append('na')"
   ]
  },
  {
   "cell_type": "code",
   "execution_count": 5,
   "metadata": {
    "collapsed": false
   },
   "outputs": [
    {
     "data": {
      "text/plain": [
       "['na']"
      ]
     },
     "execution_count": 5,
     "metadata": {},
     "output_type": "execute_result"
    }
   ],
   "source": [
    "data['Field']"
   ]
  },
  {
   "cell_type": "code",
   "execution_count": 6,
   "metadata": {
    "collapsed": true
   },
   "outputs": [],
   "source": [
    "d2 = {key: [] for key in headers}"
   ]
  },
  {
   "cell_type": "code",
   "execution_count": 7,
   "metadata": {
    "collapsed": false
   },
   "outputs": [
    {
     "data": {
      "text/plain": [
       "{'Field': [],\n",
       " 'Modulation Amplitude': [],\n",
       " 'Modulation Frequency': [],\n",
       " 'R': [],\n",
       " 'Rdb': [],\n",
       " 'Resonance Freq': [],\n",
       " 'Sens': [],\n",
       " 'TC': [],\n",
       " 'Theta': [],\n",
       " 'Time': [],\n",
       " 'Tx Power': [],\n",
       " 'Voltage Magnet': [],\n",
       " 'X': [],\n",
       " 'XdB': [],\n",
       " 'Y': []}"
      ]
     },
     "execution_count": 7,
     "metadata": {},
     "output_type": "execute_result"
    }
   ],
   "source": [
    "d2['Field']"
   ]
  },
  {
   "cell_type": "code",
   "execution_count": null,
   "metadata": {
    "collapsed": true
   },
   "outputs": [],
   "source": []
  }
 ],
 "metadata": {
  "kernelspec": {
   "display_name": "Python 2",
   "language": "python",
   "name": "python2"
  },
  "language_info": {
   "codemirror_mode": {
    "name": "ipython",
    "version": 2
   },
   "file_extension": ".py",
   "mimetype": "text/x-python",
   "name": "python",
   "nbconvert_exporter": "python",
   "pygments_lexer": "ipython2",
   "version": "2.7.10"
  }
 },
 "nbformat": 4,
 "nbformat_minor": 0
}
