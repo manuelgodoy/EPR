{
 "cells": [
  {
   "cell_type": "code",
   "execution_count": 2,
   "metadata": {
    "collapsed": false
   },
   "outputs": [],
   "source": [
    "import csv"
   ]
  },
  {
   "cell_type": "code",
   "execution_count": 15,
   "metadata": {
    "collapsed": false
   },
   "outputs": [
    {
     "name": "stdout",
     "output_type": "stream",
     "text": [
      "6.50E-01\n",
      "6.51E-01\n",
      "6.52E-01\n",
      "6.53E-01\n",
      "6.54E-01\n",
      "6.55E-01\n",
      "6.56E-01\n",
      "6.57E-01\n",
      "6.58E-01\n",
      "6.59E-01\n",
      "6.60E-01\n",
      "6.61E-01\n",
      "6.62E-01\n",
      "6.63E-01\n",
      "6.64E-01\n",
      "6.65E-01\n",
      "6.66E-01\n",
      "6.67E-01\n",
      "6.68E-01\n",
      "6.69E-01\n",
      "6.70E-01\n",
      "6.71E-01\n",
      "6.72E-01\n",
      "6.73E-01\n",
      "6.74E-01\n",
      "6.75E-01\n",
      "6.76E-01\n",
      "6.77E-01\n",
      "6.78E-01\n",
      "6.79E-01\n",
      "6.80E-01\n",
      "6.81E-01\n",
      "6.82E-01\n",
      "6.83E-01\n",
      "6.84E-01\n",
      "6.85E-01\n",
      "6.86E-01\n",
      "6.87E-01\n",
      "6.88E-01\n",
      "6.89E-01\n",
      "6.90E-01\n",
      "6.91E-01\n",
      "6.92E-01\n",
      "6.93E-01\n",
      "6.94E-01\n",
      "6.95E-01\n",
      "6.96E-01\n",
      "6.97E-01\n",
      "6.98E-01\n",
      "6.99E-01\n",
      "7.00E-01\n",
      "7.01E-01\n",
      "7.02E-01\n",
      "7.03E-01\n",
      "7.04E-01\n",
      "7.05E-01\n",
      "7.06E-01\n",
      "7.07E-01\n",
      "7.08E-01\n",
      "7.09E-01\n",
      "7.10E-01\n",
      "7.11E-01\n",
      "7.12E-01\n",
      "7.13E-01\n",
      "7.14E-01\n",
      "7.15E-01\n",
      "7.16E-01\n",
      "7.17E-01\n",
      "7.18E-01\n",
      "7.19E-01\n",
      "7.20E-01\n",
      "7.21E-01\n",
      "7.22E-01\n",
      "7.23E-01\n",
      "7.24E-01\n",
      "7.25E-01\n",
      "7.26E-01\n",
      "7.27E-01\n",
      "7.28E-01\n",
      "7.29E-01\n",
      "7.30E-01\n",
      "7.31E-01\n",
      "7.32E-01\n",
      "7.33E-01\n",
      "7.34E-01\n",
      "7.35E-01\n",
      "7.36E-01\n",
      "7.37E-01\n",
      "7.38E-01\n",
      "7.39E-01\n",
      "7.40E-01\n",
      "7.41E-01\n",
      "7.42E-01\n",
      "7.43E-01\n",
      "7.44E-01\n",
      "7.45E-01\n",
      "7.46E-01\n",
      "7.47E-01\n",
      "7.48E-01\n",
      "7.49E-01\n"
     ]
    }
   ],
   "source": [
    "filename = 'EPR_Magnet_AICFU_SmallCoil_TapeShield_10Vpp1MHz_1LNA_July 14 2016 17_53.csv'\n",
    "with open(filename, 'rU') as f:\n",
    "    s = csv.reader(f, delimiter=' ')\n",
    "    s.next()\n",
    "    for row in s:\n",
    "        v = float(row[1].split(',')[3])\n",
    "        x = float(row[0].split(',')[1])\n",
    "        y = float(row[0].split(',')[2])"
   ]
  },
  {
   "cell_type": "code",
   "execution_count": null,
   "metadata": {
    "collapsed": true
   },
   "outputs": [],
   "source": []
  }
 ],
 "metadata": {
  "kernelspec": {
   "display_name": "Python 2",
   "language": "python",
   "name": "python2"
  },
  "language_info": {
   "codemirror_mode": {
    "name": "ipython",
    "version": 2
   },
   "file_extension": ".py",
   "mimetype": "text/x-python",
   "name": "python",
   "nbconvert_exporter": "python",
   "pygments_lexer": "ipython2",
   "version": "2.7.10"
  }
 },
 "nbformat": 4,
 "nbformat_minor": 0
}
