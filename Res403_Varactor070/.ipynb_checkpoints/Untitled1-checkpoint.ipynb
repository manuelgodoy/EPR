{
 "cells": [
  {
   "cell_type": "code",
   "execution_count": 1,
   "metadata": {
    "collapsed": true
   },
   "outputs": [],
   "source": [
    "import epr_amplitude as e\n",
    "import pandas as pd\n",
    "import numpy as np"
   ]
  },
  {
   "cell_type": "code",
   "execution_count": 2,
   "metadata": {
    "collapsed": true
   },
   "outputs": [],
   "source": [
    "data001_1 = pd.read_csv('EPR_20161116_170644_001.csv')\n",
    "data001_2 = pd.read_csv('EPR_20161116_170105_001.csv')\n",
    "data001_3 = pd.read_csv('EPR_20161116_170151_001.csv')\n"
   ]
  },
  {
   "cell_type": "code",
   "execution_count": 22,
   "metadata": {
    "collapsed": false
   },
   "outputs": [],
   "source": [
    "epr1  = e.EPR(e.SW_clean(data001_1))"
   ]
  },
  {
   "cell_type": "code",
   "execution_count": 21,
   "metadata": {
    "collapsed": false
   },
   "outputs": [
    {
     "data": {
      "text/plain": [
       "<module 'epr_amplitude' from 'epr_amplitude.py'>"
      ]
     },
     "execution_count": 21,
     "metadata": {},
     "output_type": "execute_result"
    }
   ],
   "source": [
    "reload(e)"
   ]
  },
  {
   "cell_type": "code",
   "execution_count": 23,
   "metadata": {
    "collapsed": false
   },
   "outputs": [
    {
     "data": {
      "text/plain": [
       "array([ 1991.87066307,  2004.98067088,  1981.94060733,  1973.04334755,\n",
       "        1980.59156296,  1992.80781322,  2000.25498815,  2000.85012937,\n",
       "        1998.38309814,  1998.33577286,  2004.56706988,  2013.6573243 ,\n",
       "        2019.06872332,  2011.06359476,  1989.19825396,  1951.33598893,\n",
       "        1902.14499863,  1841.34028732,  1786.27310237,  1734.79884828,\n",
       "        1696.3240827 ,  1670.45846596,  1672.92327728,  1701.62951188,\n",
       "        1747.71486211,  1801.70670044,  1844.48590359,  1867.92030932,\n",
       "        1878.86117396,  1876.99939804,  1875.02758936,  1872.40787383,\n",
       "        1870.02798869,  1862.56529743,  1850.99908169,  1838.20572681,\n",
       "        1828.60706241,  1821.15742922,  1813.80689752,  1804.23523579,\n",
       "        1792.08509685,  1780.51040789,  1775.13047164,  1777.84285169,\n",
       "        1772.29152773])"
      ]
     },
     "execution_count": 23,
     "metadata": {},
     "output_type": "execute_result"
    }
   ],
   "source": [
    "epr1.s_filter()"
   ]
  },
  {
   "cell_type": "code",
   "execution_count": 24,
   "metadata": {
    "collapsed": false
   },
   "outputs": [
    {
     "data": {
      "text/plain": [
       "array([ 1991.83333333,  2004.25      ,  1986.75      ,  1963.75      ,\n",
       "        1983.5       ,  2002.25      ,  1994.25      ,  1999.5       ,\n",
       "        1985.5       ,  2020.        ,  1999.5       ,  2011.        ,\n",
       "        2006.75      ,  2026.        ,  1991.25      ,  1948.5       ,\n",
       "        1895.25      ,  1844.75      ,  1782.25      ,  1748.75      ,\n",
       "        1685.75      ,  1670.2       ,  1675.        ,  1703.25      ,\n",
       "        1743.75      ,  1801.75      ,  1844.5       ,  1876.5       ,\n",
       "        1871.75      ,  1878.75      ,  1872.25      ,  1866.75      ,\n",
       "        1883.5       ,  1857.        ,  1851.25      ,  1837.25      ,\n",
       "        1825.        ,  1828.25      ,  1809.        ,  1807.        ,\n",
       "        1790.25      ,  1780.        ,  1777.        ,  1776.75      ,\n",
       "        1772.5       ])"
      ]
     },
     "execution_count": 24,
     "metadata": {},
     "output_type": "execute_result"
    }
   ],
   "source": [
    "epr1.signal"
   ]
  },
  {
   "cell_type": "code",
   "execution_count": 25,
   "metadata": {
    "collapsed": false
   },
   "outputs": [
    {
     "data": {
      "text/plain": [
       "355.79999999999995"
      ]
     },
     "execution_count": 25,
     "metadata": {},
     "output_type": "execute_result"
    }
   ],
   "source": [
    "epr1.amplitude"
   ]
  },
  {
   "cell_type": "code",
   "execution_count": 26,
   "metadata": {
    "collapsed": true
   },
   "outputs": [],
   "source": [
    "epr1_f = e.EPR(epr1.s_filter())"
   ]
  },
  {
   "cell_type": "code",
   "execution_count": 27,
   "metadata": {
    "collapsed": false
   },
   "outputs": [
    {
     "data": {
      "text/plain": [
       "348.61025736187389"
      ]
     },
     "execution_count": 27,
     "metadata": {},
     "output_type": "execute_result"
    }
   ],
   "source": [
    "epr1_f.amplitude"
   ]
  },
  {
   "cell_type": "code",
   "execution_count": 30,
   "metadata": {
    "collapsed": false
   },
   "outputs": [
    {
     "name": "stdout",
     "output_type": "stream",
     "text": [
      "348.75\n"
     ]
    },
    {
     "data": {
      "text/plain": [
       "342.17536034159025"
      ]
     },
     "execution_count": 30,
     "metadata": {},
     "output_type": "execute_result"
    }
   ],
   "source": [
    "epr2  = e.EPR(e.SW_clean(data001_2))\n",
    "print epr2.amplitude\n",
    "epr2_f = e.EPR(epr2.s_filter())\n",
    "epr2_f.amplitude"
   ]
  },
  {
   "cell_type": "code",
   "execution_count": 31,
   "metadata": {
    "collapsed": false
   },
   "outputs": [
    {
     "name": "stdout",
     "output_type": "stream",
     "text": [
      "357.5\n"
     ]
    },
    {
     "data": {
      "text/plain": [
       "344.79144370509584"
      ]
     },
     "execution_count": 31,
     "metadata": {},
     "output_type": "execute_result"
    }
   ],
   "source": [
    "epr3  = e.EPR(e.SW_clean(data001_3))\n",
    "print epr3.amplitude\n",
    "epr3_f = e.EPR(epr3.s_filter())\n",
    "epr3_f.amplitude"
   ]
  },
  {
   "cell_type": "code",
   "execution_count": 43,
   "metadata": {
    "collapsed": true
   },
   "outputs": [],
   "source": [
    "d = pd.DataFrame()"
   ]
  },
  {
   "cell_type": "code",
   "execution_count": 39,
   "metadata": {
    "collapsed": true
   },
   "outputs": [],
   "source": [
    "d['1'] = epr1_f.signal\n",
    "d['2'] = epr2_f.signal\n",
    "d['3'] = epr3_f.signal\n",
    "d['Vpp Average'] = (epr1_f.amplitude + epr2_f.amplitude + epr3_f.amplitude)/3\n"
   ]
  },
  {
   "cell_type": "code",
   "execution_count": 40,
   "metadata": {
    "collapsed": true
   },
   "outputs": [],
   "source": [
    "d.to_csv('001_filtered.csv', index = False)"
   ]
  },
  {
   "cell_type": "code",
   "execution_count": 37,
   "metadata": {
    "collapsed": false
   },
   "outputs": [
    {
     "data": {
      "text/plain": [
       "array([ 1991.87066307,  2004.98067088,  1981.94060733,  1973.04334755,\n",
       "        1980.59156296,  1992.80781322,  2000.25498815,  2000.85012937,\n",
       "        1998.38309814,  1998.33577286,  2004.56706988,  2013.6573243 ,\n",
       "        2019.06872332,  2011.06359476,  1989.19825396,  1951.33598893,\n",
       "        1902.14499863,  1841.34028732,  1786.27310237,  1734.79884828,\n",
       "        1696.3240827 ,  1670.45846596,  1672.92327728,  1701.62951188,\n",
       "        1747.71486211,  1801.70670044,  1844.48590359,  1867.92030932,\n",
       "        1878.86117396,  1876.99939804,  1875.02758936,  1872.40787383,\n",
       "        1870.02798869,  1862.56529743,  1850.99908169,  1838.20572681,\n",
       "        1828.60706241,  1821.15742922,  1813.80689752,  1804.23523579,\n",
       "        1792.08509685,  1780.51040789,  1775.13047164,  1777.84285169,\n",
       "        1772.29152773])"
      ]
     },
     "execution_count": 37,
     "metadata": {},
     "output_type": "execute_result"
    }
   ],
   "source": [
    "epr1_f.signal"
   ]
  },
  {
   "cell_type": "code",
   "execution_count": 41,
   "metadata": {
    "collapsed": true
   },
   "outputs": [],
   "source": [
    "data002_1 = pd.read_csv('EPR_20161116_181152_002.csv')\n",
    "data002_2 = pd.read_csv('EPR_20161116_181252_002.csv')\n",
    "data002_3 = pd.read_csv('EPR_20161116_181422_002.csv')"
   ]
  },
  {
   "cell_type": "code",
   "execution_count": 42,
   "metadata": {
    "collapsed": true
   },
   "outputs": [],
   "source": [
    "epr1  = e.EPR(e.SW_clean(data002_1))\n",
    "epr1_f = e.EPR(epr1.s_filter())\n",
    "epr2  = e.EPR(e.SW_clean(data002_2))\n",
    "epr2_f = e.EPR(epr2.s_filter())\n",
    "epr3  = e.EPR(e.SW_clean(data002_3))\n",
    "epr3_f = e.EPR(epr3.s_filter())"
   ]
  },
  {
   "cell_type": "code",
   "execution_count": 5,
   "metadata": {
    "collapsed": false
   },
   "outputs": [],
   "source": [
    "d = pd.DataFrame()\n",
    "d['1'] = epr1_f.signal\n",
    "d['2'] = epr2_f.signal\n",
    "d['3'] = epr3_f.signal\n",
    "d['Vpp Average'] = (epr1_f.amplitude + epr2_f.amplitude + epr3_f.amplitude)/3\n"
   ]
  },
  {
   "cell_type": "code",
   "execution_count": 6,
   "metadata": {
    "collapsed": true
   },
   "outputs": [],
   "source": [
    "d.to_csv('001_filtered_2.csv', index = False)"
   ]
  },
  {
   "cell_type": "code",
   "execution_count": 18,
   "metadata": {
    "collapsed": true
   },
   "outputs": [],
   "source": [
    "data001_1 = pd.read_csv('EPR_20161117_101134_001.csv')\n",
    "data001_2 = pd.read_csv('EPR_20161117_095628_001.csv')\n",
    "data001_3 = pd.read_csv('EPR_20161117_095513_001.csv')\n",
    "data001_4 = pd.read_csv('EPR_20161117_104500_001.csv')"
   ]
  },
  {
   "cell_type": "code",
   "execution_count": 19,
   "metadata": {
    "collapsed": false
   },
   "outputs": [],
   "source": [
    "epr1  = e.EPR(e.SW_clean(data001_1))\n",
    "epr1_f = e.EPR(epr1.s_filter())\n",
    "epr2  = e.EPR(e.SW_clean(data001_2))\n",
    "epr2_f = e.EPR(epr2.s_filter())\n",
    "epr3  = e.EPR(e.SW_clean(data001_3))\n",
    "epr3_f = e.EPR(epr3.s_filter())\n",
    "epr4  = e.EPR(e.SW_clean(data001_4))\n",
    "epr4_f = e.EPR(epr4.s_filter())"
   ]
  },
  {
   "cell_type": "code",
   "execution_count": 7,
   "metadata": {
    "collapsed": true
   },
   "outputs": [],
   "source": [
    "data002_1 = pd.read_csv('EPR_20161117_102545_002.csv')\n",
    "data002_2 = pd.read_csv('EPR_20161117_102629_002.csv')\n",
    "data002_3 = pd.read_csv('EPR_20161117_102813_002.csv')\n",
    "data002_4 = pd.read_csv('EPR_20161117_102858_002.csv')"
   ]
  },
  {
   "cell_type": "code",
   "execution_count": 12,
   "metadata": {
    "collapsed": true
   },
   "outputs": [],
   "source": [
    "epr1  = e.EPR(e.SW_clean(data002_1))\n",
    "epr1_f = e.EPR(epr1.s_filter())\n",
    "epr2  = e.EPR(e.SW_clean(data002_2))\n",
    "epr2_f = e.EPR(epr2.s_filter())\n",
    "epr3  = e.EPR(e.SW_clean(data002_3))\n",
    "epr3_f = e.EPR(epr3.s_filter())\n",
    "epr4  = e.EPR(e.SW_clean(data002_4))\n",
    "epr4_f = e.EPR(epr4.s_filter())"
   ]
  },
  {
   "cell_type": "code",
   "execution_count": 14,
   "metadata": {
    "collapsed": false
   },
   "outputs": [],
   "source": [
    "d = pd.DataFrame()\n",
    "d['2'] = epr2_f.removeDC()\n",
    "d['3'] = epr3_f.removeDC()\n",
    "d['4'] = epr4_f.removeDC()\n",
    "d['Vpp Average'] = (epr2_f.amplitude + epr3_f.amplitude + epr4_f.amplitude)/3\n",
    "\n",
    "d.to_csv('002_filtered_2.csv', index = False)"
   ]
  },
  {
   "cell_type": "code",
   "execution_count": 11,
   "metadata": {
    "collapsed": false
   },
   "outputs": [
    {
     "data": {
      "text/plain": [
       "<module 'epr_amplitude' from 'epr_amplitude.py'>"
      ]
     },
     "execution_count": 11,
     "metadata": {},
     "output_type": "execute_result"
    }
   ],
   "source": [
    "reload(e)"
   ]
  },
  {
   "cell_type": "code",
   "execution_count": 20,
   "metadata": {
    "collapsed": true
   },
   "outputs": [],
   "source": [
    "d = pd.DataFrame()\n",
    "d['one'] = epr1_f.removeDC()\n",
    "d['two'] = epr2_f.removeDC()\n",
    "d['three'] = epr3_f.removeDC()\n",
    "d['four'] = epr4_f.removeDC()\n",
    "d['Vpp Average'] = (epr1_f.amplitude + epr2_f.amplitude + epr3_f.amplitude+epr4_f.amplitude)/4\n",
    "\n",
    "d.to_csv('001_filtered_2.csv', index = False)"
   ]
  },
  {
   "cell_type": "code",
   "execution_count": 26,
   "metadata": {
    "collapsed": false
   },
   "outputs": [],
   "source": [
    "import glob\n",
    "data003 = []\n",
    "path = \"/Users/manuelgodoy/Downloads/Data/*003.csv\"\n",
    "df = pd.DataFrame()\n",
    "for filename in glob.glob(path):\n",
    "    d = pd.read_csv(filename)\n",
    "    d_clean = e.EPR(e.SW_clean(d))\n",
    "    d_filtered = e.EPR(d_clean.s_filter())\n",
    "    data003.append(d_filtered)\n",
    "    df[filename] = d_filtered.removeDC()\n",
    "    \n",
    "    \n"
   ]
  },
  {
   "cell_type": "code",
   "execution_count": 27,
   "metadata": {
    "collapsed": false
   },
   "outputs": [
    {
     "data": {
      "text/plain": [
       "[<epr_amplitude.EPR at 0x107a791d0>,\n",
       " <epr_amplitude.EPR at 0x107b40ed0>,\n",
       " <epr_amplitude.EPR at 0x107b64250>,\n",
       " <epr_amplitude.EPR at 0x107b8fc90>,\n",
       " <epr_amplitude.EPR at 0x107b5fb50>]"
      ]
     },
     "execution_count": 27,
     "metadata": {},
     "output_type": "execute_result"
    }
   ],
   "source": [
    "data003"
   ]
  },
  {
   "cell_type": "code",
   "execution_count": null,
   "metadata": {
    "collapsed": true
   },
   "outputs": [],
   "source": []
  }
 ],
 "metadata": {
  "kernelspec": {
   "display_name": "Python 2",
   "language": "python",
   "name": "python2"
  },
  "language_info": {
   "codemirror_mode": {
    "name": "ipython",
    "version": 2
   },
   "file_extension": ".py",
   "mimetype": "text/x-python",
   "name": "python",
   "nbconvert_exporter": "python",
   "pygments_lexer": "ipython2",
   "version": "2.7.10"
  }
 },
 "nbformat": 4,
 "nbformat_minor": 0
}
