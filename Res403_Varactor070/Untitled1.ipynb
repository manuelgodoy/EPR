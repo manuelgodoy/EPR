{
 "cells": [
  {
   "cell_type": "code",
   "execution_count": 1,
   "metadata": {
    "collapsed": true
   },
   "outputs": [],
   "source": [
    "import epr_amplitude as e\n",
    "import pandas as pd\n",
    "import numpy as np"
   ]
  },
  {
   "cell_type": "code",
   "execution_count": 2,
   "metadata": {
    "collapsed": true
   },
   "outputs": [],
   "source": [
    "data001_1 = pd.read_csv('EPR_20161116_170644_001.csv')\n",
    "data001_2 = pd.read_csv('EPR_20161116_170105_001.csv')\n",
    "data001_3 = pd.read_csv('EPR_20161116_170151_001.csv')\n"
   ]
  },
  {
   "cell_type": "code",
   "execution_count": 22,
   "metadata": {
    "collapsed": false
   },
   "outputs": [],
   "source": [
    "epr1  = e.EPR(e.SW_clean(data001_1))"
   ]
  },
  {
   "cell_type": "code",
   "execution_count": 21,
   "metadata": {
    "collapsed": false
   },
   "outputs": [
    {
     "data": {
      "text/plain": [
       "<module 'epr_amplitude' from 'epr_amplitude.py'>"
      ]
     },
     "execution_count": 21,
     "metadata": {},
     "output_type": "execute_result"
    }
   ],
   "source": [
    "reload(e)"
   ]
  },
  {
   "cell_type": "code",
   "execution_count": 23,
   "metadata": {
    "collapsed": false
   },
   "outputs": [
    {
     "data": {
      "text/plain": [
       "array([ 1991.87066307,  2004.98067088,  1981.94060733,  1973.04334755,\n",
       "        1980.59156296,  1992.80781322,  2000.25498815,  2000.85012937,\n",
       "        1998.38309814,  1998.33577286,  2004.56706988,  2013.6573243 ,\n",
       "        2019.06872332,  2011.06359476,  1989.19825396,  1951.33598893,\n",
       "        1902.14499863,  1841.34028732,  1786.27310237,  1734.79884828,\n",
       "        1696.3240827 ,  1670.45846596,  1672.92327728,  1701.62951188,\n",
       "        1747.71486211,  1801.70670044,  1844.48590359,  1867.92030932,\n",
       "        1878.86117396,  1876.99939804,  1875.02758936,  1872.40787383,\n",
       "        1870.02798869,  1862.56529743,  1850.99908169,  1838.20572681,\n",
       "        1828.60706241,  1821.15742922,  1813.80689752,  1804.23523579,\n",
       "        1792.08509685,  1780.51040789,  1775.13047164,  1777.84285169,\n",
       "        1772.29152773])"
      ]
     },
     "execution_count": 23,
     "metadata": {},
     "output_type": "execute_result"
    }
   ],
   "source": [
    "epr1.s_filter()"
   ]
  },
  {
   "cell_type": "code",
   "execution_count": 24,
   "metadata": {
    "collapsed": false
   },
   "outputs": [
    {
     "data": {
      "text/plain": [
       "array([ 1991.83333333,  2004.25      ,  1986.75      ,  1963.75      ,\n",
       "        1983.5       ,  2002.25      ,  1994.25      ,  1999.5       ,\n",
       "        1985.5       ,  2020.        ,  1999.5       ,  2011.        ,\n",
       "        2006.75      ,  2026.        ,  1991.25      ,  1948.5       ,\n",
       "        1895.25      ,  1844.75      ,  1782.25      ,  1748.75      ,\n",
       "        1685.75      ,  1670.2       ,  1675.        ,  1703.25      ,\n",
       "        1743.75      ,  1801.75      ,  1844.5       ,  1876.5       ,\n",
       "        1871.75      ,  1878.75      ,  1872.25      ,  1866.75      ,\n",
       "        1883.5       ,  1857.        ,  1851.25      ,  1837.25      ,\n",
       "        1825.        ,  1828.25      ,  1809.        ,  1807.        ,\n",
       "        1790.25      ,  1780.        ,  1777.        ,  1776.75      ,\n",
       "        1772.5       ])"
      ]
     },
     "execution_count": 24,
     "metadata": {},
     "output_type": "execute_result"
    }
   ],
   "source": [
    "epr1.signal"
   ]
  },
  {
   "cell_type": "code",
   "execution_count": 25,
   "metadata": {
    "collapsed": false
   },
   "outputs": [
    {
     "data": {
      "text/plain": [
       "355.79999999999995"
      ]
     },
     "execution_count": 25,
     "metadata": {},
     "output_type": "execute_result"
    }
   ],
   "source": [
    "epr1.amplitude"
   ]
  },
  {
   "cell_type": "code",
   "execution_count": 26,
   "metadata": {
    "collapsed": true
   },
   "outputs": [],
   "source": [
    "epr1_f = e.EPR(epr1.s_filter())"
   ]
  },
  {
   "cell_type": "code",
   "execution_count": 27,
   "metadata": {
    "collapsed": false
   },
   "outputs": [
    {
     "data": {
      "text/plain": [
       "348.61025736187389"
      ]
     },
     "execution_count": 27,
     "metadata": {},
     "output_type": "execute_result"
    }
   ],
   "source": [
    "epr1_f.amplitude"
   ]
  },
  {
   "cell_type": "code",
   "execution_count": 30,
   "metadata": {
    "collapsed": false
   },
   "outputs": [
    {
     "name": "stdout",
     "output_type": "stream",
     "text": [
      "348.75\n"
     ]
    },
    {
     "data": {
      "text/plain": [
       "342.17536034159025"
      ]
     },
     "execution_count": 30,
     "metadata": {},
     "output_type": "execute_result"
    }
   ],
   "source": [
    "epr2  = e.EPR(e.SW_clean(data001_2))\n",
    "print epr2.amplitude\n",
    "epr2_f = e.EPR(epr2.s_filter())\n",
    "epr2_f.amplitude"
   ]
  },
  {
   "cell_type": "code",
   "execution_count": 31,
   "metadata": {
    "collapsed": false
   },
   "outputs": [
    {
     "name": "stdout",
     "output_type": "stream",
     "text": [
      "357.5\n"
     ]
    },
    {
     "data": {
      "text/plain": [
       "344.79144370509584"
      ]
     },
     "execution_count": 31,
     "metadata": {},
     "output_type": "execute_result"
    }
   ],
   "source": [
    "epr3  = e.EPR(e.SW_clean(data001_3))\n",
    "print epr3.amplitude\n",
    "epr3_f = e.EPR(epr3.s_filter())\n",
    "epr3_f.amplitude"
   ]
  },
  {
   "cell_type": "code",
   "execution_count": 43,
   "metadata": {
    "collapsed": true
   },
   "outputs": [],
   "source": [
    "d = pd.DataFrame()"
   ]
  },
  {
   "cell_type": "code",
   "execution_count": 39,
   "metadata": {
    "collapsed": true
   },
   "outputs": [],
   "source": [
    "d['1'] = epr1_f.signal\n",
    "d['2'] = epr2_f.signal\n",
    "d['3'] = epr3_f.signal\n",
    "d['Vpp Average'] = (epr1_f.amplitude + epr2_f.amplitude + epr3_f.amplitude)/3\n"
   ]
  },
  {
   "cell_type": "code",
   "execution_count": 40,
   "metadata": {
    "collapsed": true
   },
   "outputs": [],
   "source": [
    "d.to_csv('001_filtered.csv', index = False)"
   ]
  },
  {
   "cell_type": "code",
   "execution_count": 37,
   "metadata": {
    "collapsed": false
   },
   "outputs": [
    {
     "data": {
      "text/plain": [
       "array([ 1991.87066307,  2004.98067088,  1981.94060733,  1973.04334755,\n",
       "        1980.59156296,  1992.80781322,  2000.25498815,  2000.85012937,\n",
       "        1998.38309814,  1998.33577286,  2004.56706988,  2013.6573243 ,\n",
       "        2019.06872332,  2011.06359476,  1989.19825396,  1951.33598893,\n",
       "        1902.14499863,  1841.34028732,  1786.27310237,  1734.79884828,\n",
       "        1696.3240827 ,  1670.45846596,  1672.92327728,  1701.62951188,\n",
       "        1747.71486211,  1801.70670044,  1844.48590359,  1867.92030932,\n",
       "        1878.86117396,  1876.99939804,  1875.02758936,  1872.40787383,\n",
       "        1870.02798869,  1862.56529743,  1850.99908169,  1838.20572681,\n",
       "        1828.60706241,  1821.15742922,  1813.80689752,  1804.23523579,\n",
       "        1792.08509685,  1780.51040789,  1775.13047164,  1777.84285169,\n",
       "        1772.29152773])"
      ]
     },
     "execution_count": 37,
     "metadata": {},
     "output_type": "execute_result"
    }
   ],
   "source": [
    "epr1_f.signal"
   ]
  },
  {
   "cell_type": "code",
   "execution_count": 41,
   "metadata": {
    "collapsed": true
   },
   "outputs": [],
   "source": [
    "data002_1 = pd.read_csv('EPR_20161116_181152_002.csv')\n",
    "data002_2 = pd.read_csv('EPR_20161116_181252_002.csv')\n",
    "data002_3 = pd.read_csv('EPR_20161116_181422_002.csv')"
   ]
  },
  {
   "cell_type": "code",
   "execution_count": 42,
   "metadata": {
    "collapsed": true
   },
   "outputs": [],
   "source": [
    "epr1  = e.EPR(e.SW_clean(data002_1))\n",
    "epr1_f = e.EPR(epr1.s_filter())\n",
    "epr2  = e.EPR(e.SW_clean(data002_2))\n",
    "epr2_f = e.EPR(epr2.s_filter())\n",
    "epr3  = e.EPR(e.SW_clean(data002_3))\n",
    "epr3_f = e.EPR(epr3.s_filter())"
   ]
  },
  {
   "cell_type": "code",
   "execution_count": 5,
   "metadata": {
    "collapsed": false
   },
   "outputs": [],
   "source": [
    "d = pd.DataFrame()\n",
    "d['1'] = epr1_f.signal\n",
    "d['2'] = epr2_f.signal\n",
    "d['3'] = epr3_f.signal\n",
    "d['Vpp Average'] = (epr1_f.amplitude + epr2_f.amplitude + epr3_f.amplitude)/3\n"
   ]
  },
  {
   "cell_type": "code",
   "execution_count": 6,
   "metadata": {
    "collapsed": true
   },
   "outputs": [],
   "source": [
    "d.to_csv('001_filtered_2.csv', index = False)"
   ]
  },
  {
   "cell_type": "code",
   "execution_count": 18,
   "metadata": {
    "collapsed": true
   },
   "outputs": [],
   "source": [
    "data001_1 = pd.read_csv('EPR_20161117_101134_001.csv')\n",
    "data001_2 = pd.read_csv('EPR_20161117_095628_001.csv')\n",
    "data001_3 = pd.read_csv('EPR_20161117_095513_001.csv')\n",
    "data001_4 = pd.read_csv('EPR_20161117_104500_001.csv')"
   ]
  },
  {
   "cell_type": "code",
   "execution_count": 19,
   "metadata": {
    "collapsed": false
   },
   "outputs": [],
   "source": [
    "epr1  = e.EPR(e.SW_clean(data001_1))\n",
    "epr1_f = e.EPR(epr1.s_filter())\n",
    "epr2  = e.EPR(e.SW_clean(data001_2))\n",
    "epr2_f = e.EPR(epr2.s_filter())\n",
    "epr3  = e.EPR(e.SW_clean(data001_3))\n",
    "epr3_f = e.EPR(epr3.s_filter())\n",
    "epr4  = e.EPR(e.SW_clean(data001_4))\n",
    "epr4_f = e.EPR(epr4.s_filter())"
   ]
  },
  {
   "cell_type": "code",
   "execution_count": 7,
   "metadata": {
    "collapsed": true
   },
   "outputs": [],
   "source": [
    "data002_1 = pd.read_csv('EPR_20161117_102545_002.csv')\n",
    "data002_2 = pd.read_csv('EPR_20161117_102629_002.csv')\n",
    "data002_3 = pd.read_csv('EPR_20161117_102813_002.csv')\n",
    "data002_4 = pd.read_csv('EPR_20161117_102858_002.csv')"
   ]
  },
  {
   "cell_type": "code",
   "execution_count": 12,
   "metadata": {
    "collapsed": true
   },
   "outputs": [],
   "source": [
    "epr1  = e.EPR(e.SW_clean(data002_1))\n",
    "epr1_f = e.EPR(epr1.s_filter())\n",
    "epr2  = e.EPR(e.SW_clean(data002_2))\n",
    "epr2_f = e.EPR(epr2.s_filter())\n",
    "epr3  = e.EPR(e.SW_clean(data002_3))\n",
    "epr3_f = e.EPR(epr3.s_filter())\n",
    "epr4  = e.EPR(e.SW_clean(data002_4))\n",
    "epr4_f = e.EPR(epr4.s_filter())"
   ]
  },
  {
   "cell_type": "code",
   "execution_count": 14,
   "metadata": {
    "collapsed": false
   },
   "outputs": [],
   "source": [
    "d = pd.DataFrame()\n",
    "d['2'] = epr2_f.removeDC()\n",
    "d['3'] = epr3_f.removeDC()\n",
    "d['4'] = epr4_f.removeDC()\n",
    "d['Vpp Average'] = (epr2_f.amplitude + epr3_f.amplitude + epr4_f.amplitude)/3\n",
    "\n",
    "d.to_csv('002_filtered_2.csv', index = False)"
   ]
  },
  {
   "cell_type": "code",
   "execution_count": 11,
   "metadata": {
    "collapsed": false
   },
   "outputs": [
    {
     "data": {
      "text/plain": [
       "<module 'epr_amplitude' from 'epr_amplitude.py'>"
      ]
     },
     "execution_count": 11,
     "metadata": {},
     "output_type": "execute_result"
    }
   ],
   "source": [
    "reload(e)"
   ]
  },
  {
   "cell_type": "code",
   "execution_count": 20,
   "metadata": {
    "collapsed": true
   },
   "outputs": [],
   "source": [
    "d = pd.DataFrame()\n",
    "d['one'] = epr1_f.removeDC()\n",
    "d['two'] = epr2_f.removeDC()\n",
    "d['three'] = epr3_f.removeDC()\n",
    "d['four'] = epr4_f.removeDC()\n",
    "d['Vpp Average'] = (epr1_f.amplitude + epr2_f.amplitude + epr3_f.amplitude+epr4_f.amplitude)/4\n",
    "\n",
    "d.to_csv('001_filtered_2.csv', index = False)"
   ]
  },
  {
   "cell_type": "code",
   "execution_count": 3,
   "metadata": {
    "collapsed": false
   },
   "outputs": [
    {
     "name": "stderr",
     "output_type": "stream",
     "text": [
      "/Library/Frameworks/Python.framework/Versions/2.7/lib/python2.7/site-packages/scipy/linalg/basic.py:884: RuntimeWarning: internal gelsd driver lwork query error, required iwork dimension not returned. This is likely the result of LAPACK bug 0038, fixed in LAPACK 3.2.2 (released July 21, 2010). Falling back to 'gelss' driver.\n",
      "  warnings.warn(mesg, RuntimeWarning)\n"
     ]
    },
    {
     "ename": "ValueError",
     "evalue": "Length of values does not match length of index",
     "output_type": "error",
     "traceback": [
      "\u001b[0;31m---------------------------------------------------------------------------\u001b[0m",
      "\u001b[0;31mValueError\u001b[0m                                Traceback (most recent call last)",
      "\u001b[0;32m<ipython-input-3-90f1f8a7a3ba>\u001b[0m in \u001b[0;36m<module>\u001b[0;34m()\u001b[0m\n\u001b[1;32m      8\u001b[0m     \u001b[0md_filtered\u001b[0m \u001b[0;34m=\u001b[0m \u001b[0me\u001b[0m\u001b[0;34m.\u001b[0m\u001b[0mEPR\u001b[0m\u001b[0;34m(\u001b[0m\u001b[0md_clean\u001b[0m\u001b[0;34m.\u001b[0m\u001b[0ms_filter\u001b[0m\u001b[0;34m(\u001b[0m\u001b[0;34m)\u001b[0m\u001b[0;34m)\u001b[0m\u001b[0;34m\u001b[0m\u001b[0m\n\u001b[1;32m      9\u001b[0m     \u001b[0mdata\u001b[0m\u001b[0;34m.\u001b[0m\u001b[0mappend\u001b[0m\u001b[0;34m(\u001b[0m\u001b[0md_filtered\u001b[0m\u001b[0;34m)\u001b[0m\u001b[0;34m\u001b[0m\u001b[0m\n\u001b[0;32m---> 10\u001b[0;31m     \u001b[0mdf\u001b[0m\u001b[0;34m[\u001b[0m\u001b[0mfilename\u001b[0m\u001b[0;34m]\u001b[0m \u001b[0;34m=\u001b[0m \u001b[0md_filtered\u001b[0m\u001b[0;34m.\u001b[0m\u001b[0mremoveDC\u001b[0m\u001b[0;34m(\u001b[0m\u001b[0;34m)\u001b[0m\u001b[0;34m\u001b[0m\u001b[0m\n\u001b[0m\u001b[1;32m     11\u001b[0m \u001b[0;34m\u001b[0m\u001b[0m\n\u001b[1;32m     12\u001b[0m \u001b[0maverage\u001b[0m \u001b[0;34m=\u001b[0m \u001b[0;34m[\u001b[0m\u001b[0;34m]\u001b[0m\u001b[0;34m\u001b[0m\u001b[0m\n",
      "\u001b[0;32m/Library/Frameworks/Python.framework/Versions/2.7/lib/python2.7/site-packages/pandas/core/frame.pyc\u001b[0m in \u001b[0;36m__setitem__\u001b[0;34m(self, key, value)\u001b[0m\n\u001b[1;32m   2346\u001b[0m         \u001b[0;32melse\u001b[0m\u001b[0;34m:\u001b[0m\u001b[0;34m\u001b[0m\u001b[0m\n\u001b[1;32m   2347\u001b[0m             \u001b[0;31m# set column\u001b[0m\u001b[0;34m\u001b[0m\u001b[0;34m\u001b[0m\u001b[0m\n\u001b[0;32m-> 2348\u001b[0;31m             \u001b[0mself\u001b[0m\u001b[0;34m.\u001b[0m\u001b[0m_set_item\u001b[0m\u001b[0;34m(\u001b[0m\u001b[0mkey\u001b[0m\u001b[0;34m,\u001b[0m \u001b[0mvalue\u001b[0m\u001b[0;34m)\u001b[0m\u001b[0;34m\u001b[0m\u001b[0m\n\u001b[0m\u001b[1;32m   2349\u001b[0m \u001b[0;34m\u001b[0m\u001b[0m\n\u001b[1;32m   2350\u001b[0m     \u001b[0;32mdef\u001b[0m \u001b[0m_setitem_slice\u001b[0m\u001b[0;34m(\u001b[0m\u001b[0mself\u001b[0m\u001b[0;34m,\u001b[0m \u001b[0mkey\u001b[0m\u001b[0;34m,\u001b[0m \u001b[0mvalue\u001b[0m\u001b[0;34m)\u001b[0m\u001b[0;34m:\u001b[0m\u001b[0;34m\u001b[0m\u001b[0m\n",
      "\u001b[0;32m/Library/Frameworks/Python.framework/Versions/2.7/lib/python2.7/site-packages/pandas/core/frame.pyc\u001b[0m in \u001b[0;36m_set_item\u001b[0;34m(self, key, value)\u001b[0m\n\u001b[1;32m   2412\u001b[0m \u001b[0;34m\u001b[0m\u001b[0m\n\u001b[1;32m   2413\u001b[0m         \u001b[0mself\u001b[0m\u001b[0;34m.\u001b[0m\u001b[0m_ensure_valid_index\u001b[0m\u001b[0;34m(\u001b[0m\u001b[0mvalue\u001b[0m\u001b[0;34m)\u001b[0m\u001b[0;34m\u001b[0m\u001b[0m\n\u001b[0;32m-> 2414\u001b[0;31m         \u001b[0mvalue\u001b[0m \u001b[0;34m=\u001b[0m \u001b[0mself\u001b[0m\u001b[0;34m.\u001b[0m\u001b[0m_sanitize_column\u001b[0m\u001b[0;34m(\u001b[0m\u001b[0mkey\u001b[0m\u001b[0;34m,\u001b[0m \u001b[0mvalue\u001b[0m\u001b[0;34m)\u001b[0m\u001b[0;34m\u001b[0m\u001b[0m\n\u001b[0m\u001b[1;32m   2415\u001b[0m         \u001b[0mNDFrame\u001b[0m\u001b[0;34m.\u001b[0m\u001b[0m_set_item\u001b[0m\u001b[0;34m(\u001b[0m\u001b[0mself\u001b[0m\u001b[0;34m,\u001b[0m \u001b[0mkey\u001b[0m\u001b[0;34m,\u001b[0m \u001b[0mvalue\u001b[0m\u001b[0;34m)\u001b[0m\u001b[0;34m\u001b[0m\u001b[0m\n\u001b[1;32m   2416\u001b[0m \u001b[0;34m\u001b[0m\u001b[0m\n",
      "\u001b[0;32m/Library/Frameworks/Python.framework/Versions/2.7/lib/python2.7/site-packages/pandas/core/frame.pyc\u001b[0m in \u001b[0;36m_sanitize_column\u001b[0;34m(self, key, value)\u001b[0m\n\u001b[1;32m   2570\u001b[0m \u001b[0;34m\u001b[0m\u001b[0m\n\u001b[1;32m   2571\u001b[0m             \u001b[0;31m# turn me into an ndarray\u001b[0m\u001b[0;34m\u001b[0m\u001b[0;34m\u001b[0m\u001b[0m\n\u001b[0;32m-> 2572\u001b[0;31m             \u001b[0mvalue\u001b[0m \u001b[0;34m=\u001b[0m \u001b[0m_sanitize_index\u001b[0m\u001b[0;34m(\u001b[0m\u001b[0mvalue\u001b[0m\u001b[0;34m,\u001b[0m \u001b[0mself\u001b[0m\u001b[0;34m.\u001b[0m\u001b[0mindex\u001b[0m\u001b[0;34m,\u001b[0m \u001b[0mcopy\u001b[0m\u001b[0;34m=\u001b[0m\u001b[0mFalse\u001b[0m\u001b[0;34m)\u001b[0m\u001b[0;34m\u001b[0m\u001b[0m\n\u001b[0m\u001b[1;32m   2573\u001b[0m             \u001b[0;32mif\u001b[0m \u001b[0;32mnot\u001b[0m \u001b[0misinstance\u001b[0m\u001b[0;34m(\u001b[0m\u001b[0mvalue\u001b[0m\u001b[0;34m,\u001b[0m \u001b[0;34m(\u001b[0m\u001b[0mnp\u001b[0m\u001b[0;34m.\u001b[0m\u001b[0mndarray\u001b[0m\u001b[0;34m,\u001b[0m \u001b[0mIndex\u001b[0m\u001b[0;34m)\u001b[0m\u001b[0;34m)\u001b[0m\u001b[0;34m:\u001b[0m\u001b[0;34m\u001b[0m\u001b[0m\n\u001b[1;32m   2574\u001b[0m                 \u001b[0;32mif\u001b[0m \u001b[0misinstance\u001b[0m\u001b[0;34m(\u001b[0m\u001b[0mvalue\u001b[0m\u001b[0;34m,\u001b[0m \u001b[0mlist\u001b[0m\u001b[0;34m)\u001b[0m \u001b[0;32mand\u001b[0m \u001b[0mlen\u001b[0m\u001b[0;34m(\u001b[0m\u001b[0mvalue\u001b[0m\u001b[0;34m)\u001b[0m \u001b[0;34m>\u001b[0m \u001b[0;36m0\u001b[0m\u001b[0;34m:\u001b[0m\u001b[0;34m\u001b[0m\u001b[0m\n",
      "\u001b[0;32m/Library/Frameworks/Python.framework/Versions/2.7/lib/python2.7/site-packages/pandas/core/series.pyc\u001b[0m in \u001b[0;36m_sanitize_index\u001b[0;34m(data, index, copy)\u001b[0m\n\u001b[1;32m   2819\u001b[0m \u001b[0;34m\u001b[0m\u001b[0m\n\u001b[1;32m   2820\u001b[0m     \u001b[0;32mif\u001b[0m \u001b[0mlen\u001b[0m\u001b[0;34m(\u001b[0m\u001b[0mdata\u001b[0m\u001b[0;34m)\u001b[0m \u001b[0;34m!=\u001b[0m \u001b[0mlen\u001b[0m\u001b[0;34m(\u001b[0m\u001b[0mindex\u001b[0m\u001b[0;34m)\u001b[0m\u001b[0;34m:\u001b[0m\u001b[0;34m\u001b[0m\u001b[0m\n\u001b[0;32m-> 2821\u001b[0;31m         \u001b[0;32mraise\u001b[0m \u001b[0mValueError\u001b[0m\u001b[0;34m(\u001b[0m\u001b[0;34m'Length of values does not match length of '\u001b[0m \u001b[0;34m'index'\u001b[0m\u001b[0;34m)\u001b[0m\u001b[0;34m\u001b[0m\u001b[0m\n\u001b[0m\u001b[1;32m   2822\u001b[0m \u001b[0;34m\u001b[0m\u001b[0m\n\u001b[1;32m   2823\u001b[0m     \u001b[0;32mif\u001b[0m \u001b[0misinstance\u001b[0m\u001b[0;34m(\u001b[0m\u001b[0mdata\u001b[0m\u001b[0;34m,\u001b[0m \u001b[0mPeriodIndex\u001b[0m\u001b[0;34m)\u001b[0m\u001b[0;34m:\u001b[0m\u001b[0;34m\u001b[0m\u001b[0m\n",
      "\u001b[0;31mValueError\u001b[0m: Length of values does not match length of index"
     ]
    }
   ],
   "source": [
    "import glob\n",
    "data = []\n",
    "path = \"/Users/manuelgodoy/Downloads/*006.csv\"\n",
    "df = pd.DataFrame()\n",
    "for filename in glob.glob(path):\n",
    "    d = pd.read_csv(filename)\n",
    "    d_clean = e.EPR(e.SW_clean(d))\n",
    "    d_filtered = e.EPR(d_clean.s_filter())\n",
    "    data.append(d_filtered)\n",
    "    df[filename] = d_filtered.removeDC()\n",
    "    \n",
    "average = []\n",
    "for i in data:\n",
    "    average.append(i.amplitude)\n",
    "    \n",
    "df['Vpp Average'] = sum(average)/float(len(average))\n",
    "    \n",
    "    \n"
   ]
  },
  {
   "cell_type": "code",
   "execution_count": 31,
   "metadata": {
    "collapsed": false
   },
   "outputs": [],
   "source": [
    "df.to_csv('004_filtered.csv', index = False)"
   ]
  },
  {
   "cell_type": "code",
   "execution_count": 14,
   "metadata": {
    "collapsed": false
   },
   "outputs": [
    {
     "ename": "ValueError",
     "evalue": "Length of values does not match length of index",
     "output_type": "error",
     "traceback": [
      "\u001b[0;31m---------------------------------------------------------------------------\u001b[0m",
      "\u001b[0;31mValueError\u001b[0m                                Traceback (most recent call last)",
      "\u001b[0;32m<ipython-input-14-eed84f324a22>\u001b[0m in \u001b[0;36m<module>\u001b[0;34m()\u001b[0m\n\u001b[1;32m      7\u001b[0m \u001b[0mdf\u001b[0m \u001b[0;34m=\u001b[0m \u001b[0mpd\u001b[0m\u001b[0;34m.\u001b[0m\u001b[0mDataFrame\u001b[0m\u001b[0;34m(\u001b[0m\u001b[0;34m)\u001b[0m\u001b[0;34m\u001b[0m\u001b[0m\n\u001b[1;32m      8\u001b[0m \u001b[0mdf\u001b[0m\u001b[0;34m[\u001b[0m\u001b[0;34m'one'\u001b[0m\u001b[0;34m]\u001b[0m \u001b[0;34m=\u001b[0m \u001b[0md_filtered\u001b[0m\u001b[0;34m.\u001b[0m\u001b[0mremoveDC\u001b[0m\u001b[0;34m(\u001b[0m\u001b[0;34m)\u001b[0m\u001b[0;34m\u001b[0m\u001b[0m\n\u001b[0;32m----> 9\u001b[0;31m \u001b[0mdf\u001b[0m\u001b[0;34m[\u001b[0m\u001b[0;34m'two'\u001b[0m\u001b[0;34m]\u001b[0m \u001b[0;34m=\u001b[0m \u001b[0md_filtered2\u001b[0m\u001b[0;34m.\u001b[0m\u001b[0mremoveDC\u001b[0m\u001b[0;34m(\u001b[0m\u001b[0;34m)\u001b[0m\u001b[0;34m\u001b[0m\u001b[0m\n\u001b[0m",
      "\u001b[0;32m/Library/Frameworks/Python.framework/Versions/2.7/lib/python2.7/site-packages/pandas/core/frame.pyc\u001b[0m in \u001b[0;36m__setitem__\u001b[0;34m(self, key, value)\u001b[0m\n\u001b[1;32m   2346\u001b[0m         \u001b[0;32melse\u001b[0m\u001b[0;34m:\u001b[0m\u001b[0;34m\u001b[0m\u001b[0m\n\u001b[1;32m   2347\u001b[0m             \u001b[0;31m# set column\u001b[0m\u001b[0;34m\u001b[0m\u001b[0;34m\u001b[0m\u001b[0m\n\u001b[0;32m-> 2348\u001b[0;31m             \u001b[0mself\u001b[0m\u001b[0;34m.\u001b[0m\u001b[0m_set_item\u001b[0m\u001b[0;34m(\u001b[0m\u001b[0mkey\u001b[0m\u001b[0;34m,\u001b[0m \u001b[0mvalue\u001b[0m\u001b[0;34m)\u001b[0m\u001b[0;34m\u001b[0m\u001b[0m\n\u001b[0m\u001b[1;32m   2349\u001b[0m \u001b[0;34m\u001b[0m\u001b[0m\n\u001b[1;32m   2350\u001b[0m     \u001b[0;32mdef\u001b[0m \u001b[0m_setitem_slice\u001b[0m\u001b[0;34m(\u001b[0m\u001b[0mself\u001b[0m\u001b[0;34m,\u001b[0m \u001b[0mkey\u001b[0m\u001b[0;34m,\u001b[0m \u001b[0mvalue\u001b[0m\u001b[0;34m)\u001b[0m\u001b[0;34m:\u001b[0m\u001b[0;34m\u001b[0m\u001b[0m\n",
      "\u001b[0;32m/Library/Frameworks/Python.framework/Versions/2.7/lib/python2.7/site-packages/pandas/core/frame.pyc\u001b[0m in \u001b[0;36m_set_item\u001b[0;34m(self, key, value)\u001b[0m\n\u001b[1;32m   2412\u001b[0m \u001b[0;34m\u001b[0m\u001b[0m\n\u001b[1;32m   2413\u001b[0m         \u001b[0mself\u001b[0m\u001b[0;34m.\u001b[0m\u001b[0m_ensure_valid_index\u001b[0m\u001b[0;34m(\u001b[0m\u001b[0mvalue\u001b[0m\u001b[0;34m)\u001b[0m\u001b[0;34m\u001b[0m\u001b[0m\n\u001b[0;32m-> 2414\u001b[0;31m         \u001b[0mvalue\u001b[0m \u001b[0;34m=\u001b[0m \u001b[0mself\u001b[0m\u001b[0;34m.\u001b[0m\u001b[0m_sanitize_column\u001b[0m\u001b[0;34m(\u001b[0m\u001b[0mkey\u001b[0m\u001b[0;34m,\u001b[0m \u001b[0mvalue\u001b[0m\u001b[0;34m)\u001b[0m\u001b[0;34m\u001b[0m\u001b[0m\n\u001b[0m\u001b[1;32m   2415\u001b[0m         \u001b[0mNDFrame\u001b[0m\u001b[0;34m.\u001b[0m\u001b[0m_set_item\u001b[0m\u001b[0;34m(\u001b[0m\u001b[0mself\u001b[0m\u001b[0;34m,\u001b[0m \u001b[0mkey\u001b[0m\u001b[0;34m,\u001b[0m \u001b[0mvalue\u001b[0m\u001b[0;34m)\u001b[0m\u001b[0;34m\u001b[0m\u001b[0m\n\u001b[1;32m   2416\u001b[0m \u001b[0;34m\u001b[0m\u001b[0m\n",
      "\u001b[0;32m/Library/Frameworks/Python.framework/Versions/2.7/lib/python2.7/site-packages/pandas/core/frame.pyc\u001b[0m in \u001b[0;36m_sanitize_column\u001b[0;34m(self, key, value)\u001b[0m\n\u001b[1;32m   2570\u001b[0m \u001b[0;34m\u001b[0m\u001b[0m\n\u001b[1;32m   2571\u001b[0m             \u001b[0;31m# turn me into an ndarray\u001b[0m\u001b[0;34m\u001b[0m\u001b[0;34m\u001b[0m\u001b[0m\n\u001b[0;32m-> 2572\u001b[0;31m             \u001b[0mvalue\u001b[0m \u001b[0;34m=\u001b[0m \u001b[0m_sanitize_index\u001b[0m\u001b[0;34m(\u001b[0m\u001b[0mvalue\u001b[0m\u001b[0;34m,\u001b[0m \u001b[0mself\u001b[0m\u001b[0;34m.\u001b[0m\u001b[0mindex\u001b[0m\u001b[0;34m,\u001b[0m \u001b[0mcopy\u001b[0m\u001b[0;34m=\u001b[0m\u001b[0mFalse\u001b[0m\u001b[0;34m)\u001b[0m\u001b[0;34m\u001b[0m\u001b[0m\n\u001b[0m\u001b[1;32m   2573\u001b[0m             \u001b[0;32mif\u001b[0m \u001b[0;32mnot\u001b[0m \u001b[0misinstance\u001b[0m\u001b[0;34m(\u001b[0m\u001b[0mvalue\u001b[0m\u001b[0;34m,\u001b[0m \u001b[0;34m(\u001b[0m\u001b[0mnp\u001b[0m\u001b[0;34m.\u001b[0m\u001b[0mndarray\u001b[0m\u001b[0;34m,\u001b[0m \u001b[0mIndex\u001b[0m\u001b[0;34m)\u001b[0m\u001b[0;34m)\u001b[0m\u001b[0;34m:\u001b[0m\u001b[0;34m\u001b[0m\u001b[0m\n\u001b[1;32m   2574\u001b[0m                 \u001b[0;32mif\u001b[0m \u001b[0misinstance\u001b[0m\u001b[0;34m(\u001b[0m\u001b[0mvalue\u001b[0m\u001b[0;34m,\u001b[0m \u001b[0mlist\u001b[0m\u001b[0;34m)\u001b[0m \u001b[0;32mand\u001b[0m \u001b[0mlen\u001b[0m\u001b[0;34m(\u001b[0m\u001b[0mvalue\u001b[0m\u001b[0;34m)\u001b[0m \u001b[0;34m>\u001b[0m \u001b[0;36m0\u001b[0m\u001b[0;34m:\u001b[0m\u001b[0;34m\u001b[0m\u001b[0m\n",
      "\u001b[0;32m/Library/Frameworks/Python.framework/Versions/2.7/lib/python2.7/site-packages/pandas/core/series.pyc\u001b[0m in \u001b[0;36m_sanitize_index\u001b[0;34m(data, index, copy)\u001b[0m\n\u001b[1;32m   2819\u001b[0m \u001b[0;34m\u001b[0m\u001b[0m\n\u001b[1;32m   2820\u001b[0m     \u001b[0;32mif\u001b[0m \u001b[0mlen\u001b[0m\u001b[0;34m(\u001b[0m\u001b[0mdata\u001b[0m\u001b[0;34m)\u001b[0m \u001b[0;34m!=\u001b[0m \u001b[0mlen\u001b[0m\u001b[0;34m(\u001b[0m\u001b[0mindex\u001b[0m\u001b[0;34m)\u001b[0m\u001b[0;34m:\u001b[0m\u001b[0;34m\u001b[0m\u001b[0m\n\u001b[0;32m-> 2821\u001b[0;31m         \u001b[0;32mraise\u001b[0m \u001b[0mValueError\u001b[0m\u001b[0;34m(\u001b[0m\u001b[0;34m'Length of values does not match length of '\u001b[0m \u001b[0;34m'index'\u001b[0m\u001b[0;34m)\u001b[0m\u001b[0;34m\u001b[0m\u001b[0m\n\u001b[0m\u001b[1;32m   2822\u001b[0m \u001b[0;34m\u001b[0m\u001b[0m\n\u001b[1;32m   2823\u001b[0m     \u001b[0;32mif\u001b[0m \u001b[0misinstance\u001b[0m\u001b[0;34m(\u001b[0m\u001b[0mdata\u001b[0m\u001b[0;34m,\u001b[0m \u001b[0mPeriodIndex\u001b[0m\u001b[0;34m)\u001b[0m\u001b[0;34m:\u001b[0m\u001b[0;34m\u001b[0m\u001b[0m\n",
      "\u001b[0;31mValueError\u001b[0m: Length of values does not match length of index"
     ]
    }
   ],
   "source": [
    "d = pd.read_csv('/Users/manuelgodoy/Downloads/EPR_20161117_110538_006.csv')\n",
    "d2 = pd.read_csv('/Users/manuelgodoy/Downloads/EPR_20161117_110441_006.csv')\n",
    "d_clean = e.EPR(e.SW_clean(d))\n",
    "d_clean2 = e.EPR(e.SW_clean(d2))\n",
    "d_filtered = e.EPR(d_clean.s_filter())\n",
    "d_filtered2 = e.EPR(d_clean2.s_filter())\n",
    "df = pd.DataFrame()"
   ]
  },
  {
   "cell_type": "code",
   "execution_count": 6,
   "metadata": {
    "collapsed": true
   },
   "outputs": [],
   "source": [
    "d_clean = e.EPR(e.SW_clean(d))\n"
   ]
  },
  {
   "cell_type": "code",
   "execution_count": 8,
   "metadata": {
    "collapsed": false
   },
   "outputs": [],
   "source": [
    "d_filtered = e.EPR(d_clean.s_filter())"
   ]
  },
  {
   "cell_type": "code",
   "execution_count": 10,
   "metadata": {
    "collapsed": false
   },
   "outputs": [
    {
     "data": {
      "text/plain": [
       "230.14885615546922"
      ]
     },
     "execution_count": 10,
     "metadata": {},
     "output_type": "execute_result"
    }
   ],
   "source": [
    "d_filtered.amplitude"
   ]
  },
  {
   "cell_type": "code",
   "execution_count": 12,
   "metadata": {
    "collapsed": false
   },
   "outputs": [],
   "source": [
    "df = pd.DataFrame()\n",
    "df['on'] = d_filtered.removeDC()"
   ]
  },
  {
   "cell_type": "code",
   "execution_count": 13,
   "metadata": {
    "collapsed": true
   },
   "outputs": [],
   "source": [
    "df.to_csv('006.csv')"
   ]
  },
  {
   "cell_type": "code",
   "execution_count": 15,
   "metadata": {
    "collapsed": false
   },
   "outputs": [
    {
     "name": "stdout",
     "output_type": "stream",
     "text": [
      "67\n",
      "45\n"
     ]
    }
   ],
   "source": [
    "print len(d_filtered.removeDC())\n",
    "print len(d_filtered2.removeDC())"
   ]
  },
  {
   "cell_type": "code",
   "execution_count": 17,
   "metadata": {
    "collapsed": true
   },
   "outputs": [],
   "source": [
    "df2 = pd.DataFrame()\n",
    "df2['on'] = d_filtered2.removeDC()\n",
    "df2.to_csv('006_2.csv')\n"
   ]
  },
  {
   "cell_type": "code",
   "execution_count": 1,
   "metadata": {
    "collapsed": false
   },
   "outputs": [],
   "source": [
    "import pandas as pd\n",
    "import numpy as np\n",
    "data10 = pd.read_csv('/Users/manuelgodoy/Dropbox/Projects/Cenovus Weyburn Trials/Data/EPR_20161120_113225_192e.csv')\n"
   ]
  },
  {
   "cell_type": "code",
   "execution_count": 2,
   "metadata": {
    "collapsed": true
   },
   "outputs": [],
   "source": [
    "import epr_amplitude as e"
   ]
  },
  {
   "cell_type": "code",
   "execution_count": 3,
   "metadata": {
    "collapsed": false
   },
   "outputs": [],
   "source": [
    "df = e.SW_width(data)"
   ]
  },
  {
   "cell_type": "code",
   "execution_count": 30,
   "metadata": {
    "collapsed": false
   },
   "outputs": [
    {
     "data": {
      "text/plain": [
       "<module 'epr_amplitude' from 'epr_amplitude.pyc'>"
      ]
     },
     "execution_count": 30,
     "metadata": {},
     "output_type": "execute_result"
    }
   ],
   "source": [
    "reload(e)"
   ]
  },
  {
   "cell_type": "code",
   "execution_count": 20,
   "metadata": {
    "collapsed": false
   },
   "outputs": [],
   "source": [
    "E = e.EPR(df['EPR'])"
   ]
  },
  {
   "cell_type": "code",
   "execution_count": 21,
   "metadata": {
    "collapsed": true
   },
   "outputs": [],
   "source": [
    "E.magnetic_field = df['Field']"
   ]
  },
  {
   "cell_type": "code",
   "execution_count": 16,
   "metadata": {
    "collapsed": true
   },
   "outputs": [],
   "source": [
    "max_ind = np.where(E.signal==E.maxima)[0][0]\n",
    "min_ind = np.where(E.signal==E.minima)[0][0]"
   ]
  },
  {
   "cell_type": "code",
   "execution_count": 17,
   "metadata": {
    "collapsed": false
   },
   "outputs": [
    {
     "data": {
      "text/plain": [
       "(14, 24)"
      ]
     },
     "execution_count": 17,
     "metadata": {},
     "output_type": "execute_result"
    }
   ],
   "source": [
    "max_ind, min_ind"
   ]
  },
  {
   "cell_type": "code",
   "execution_count": 22,
   "metadata": {
    "collapsed": false
   },
   "outputs": [
    {
     "name": "stdout",
     "output_type": "stream",
     "text": [
      "0     0.699921\n",
      "1     0.700378\n",
      "2     0.700836\n",
      "3     0.701294\n",
      "4     0.701752\n",
      "5     0.702209\n",
      "6     0.702667\n",
      "7     0.703125\n",
      "8     0.703583\n",
      "9     0.704041\n",
      "10    0.704498\n",
      "11    0.704956\n",
      "12    0.705414\n",
      "13    0.705872\n",
      "14    0.706329\n",
      "15    0.706787\n",
      "16    0.707245\n",
      "17    0.707703\n",
      "18    0.708160\n",
      "19    0.708618\n",
      "20    0.709076\n",
      "21    0.709534\n",
      "22    0.709991\n",
      "23    0.710449\n",
      "24    0.710907\n",
      "25    0.711365\n",
      "26    0.711823\n",
      "27    0.712280\n",
      "28    0.712738\n",
      "29    0.713196\n",
      "30    0.713654\n",
      "31    0.714111\n",
      "32    0.714569\n",
      "33    0.715027\n",
      "34    0.715485\n",
      "35    0.715942\n",
      "36    0.716400\n",
      "37    0.716858\n",
      "38    0.717316\n",
      "39    0.717773\n",
      "40    0.718231\n",
      "41    0.718689\n",
      "42    0.719147\n",
      "43    0.719604\n",
      "44    0.719910\n",
      "Name: Field, dtype: float64\n",
      "14\n",
      "24\n"
     ]
    },
    {
     "data": {
      "text/plain": [
       "0.004577999999999971"
      ]
     },
     "execution_count": 22,
     "metadata": {},
     "output_type": "execute_result"
    }
   ],
   "source": [
    "E.width()"
   ]
  },
  {
   "cell_type": "code",
   "execution_count": 15,
   "metadata": {
    "collapsed": false
   },
   "outputs": [
    {
     "data": {
      "text/plain": [
       "1"
      ]
     },
     "execution_count": 15,
     "metadata": {},
     "output_type": "execute_result"
    }
   ],
   "source": [
    "np.abs(-1)"
   ]
  },
  {
   "cell_type": "code",
   "execution_count": 31,
   "metadata": {
    "collapsed": true
   },
   "outputs": [],
   "source": [
    "data00 = pd.read_csv('/Users/manuelgodoy/Dropbox/Projects/Cenovus Weyburn Trials/Data/EPR_20161120_115308_191e.csv')\n",
    "data10 = pd.read_csv('/Users/manuelgodoy/Dropbox/Projects/Cenovus Weyburn Trials/Data/EPR_20161120_113225_192e.csv')\n",
    "data30 = pd.read_csv('/Users/manuelgodoy/Dropbox/Projects/Cenovus Weyburn Trials/Data/EPR_20161120_113609_193e.csv')\n",
    "data60 = pd.read_csv('/Users/manuelgodoy/Dropbox/Projects/Cenovus Weyburn Trials/Data/EPR_20161120_114025_194e.csv')"
   ]
  },
  {
   "cell_type": "code",
   "execution_count": 36,
   "metadata": {
    "collapsed": true
   },
   "outputs": [],
   "source": [
    "df00 = e.SW_width(data00)\n",
    "df10 = e.SW_width(data10)\n",
    "df30 = e.SW_width(data30)\n",
    "df60 = e.SW_width(data60)"
   ]
  },
  {
   "cell_type": "code",
   "execution_count": 37,
   "metadata": {
    "collapsed": true
   },
   "outputs": [],
   "source": [
    "E00 = e.EPR(df00['EPR'])\n",
    "E00.magnetic_field = df00['Field']\n",
    "E10 = e.EPR(df10['EPR'])\n",
    "E10.magnetic_field = df10['Field']\n",
    "E30 = e.EPR(df30['EPR'])\n",
    "E30.magnetic_field = df30['Field']\n",
    "E60 = e.EPR(df60['EPR'])\n",
    "E60.magnetic_field = df60['Field']"
   ]
  },
  {
   "cell_type": "code",
   "execution_count": 38,
   "metadata": {
    "collapsed": false
   },
   "outputs": [
    {
     "name": "stdout",
     "output_type": "stream",
     "text": [
      "0.004119\n",
      "0.004425\n",
      "0.003967\n",
      "0.004425\n"
     ]
    }
   ],
   "source": [
    "print E00.width()\n",
    "print E10.width()\n",
    "print E30.width()\n",
    "print E60.width()"
   ]
  },
  {
   "cell_type": "code",
   "execution_count": 35,
   "metadata": {
    "collapsed": true
   },
   "outputs": [],
   "source": [
    "data00 = pd.read_csv('/Users/manuelgodoy/Dropbox/Projects/Cenovus Weyburn Trials/Data/EPR_20161120_115124_191e.csv')\n",
    "data10 = pd.read_csv('/Users/manuelgodoy/Dropbox/Projects/Cenovus Weyburn Trials/Data/EPR_20161120_113040_192e.csv')\n",
    "data30 = pd.read_csv('/Users/manuelgodoy/Dropbox/Projects/Cenovus Weyburn Trials/Data/EPR_20161120_113437_193e.csv')\n",
    "data60 = pd.read_csv('/Users/manuelgodoy/Dropbox/Projects/Cenovus Weyburn Trials/Data/EPR_20161120_113829_194e.csv')"
   ]
  },
  {
   "cell_type": "code",
   "execution_count": 29,
   "metadata": {
    "collapsed": false
   },
   "outputs": [
    {
     "data": {
      "text/plain": [
       "19"
      ]
     },
     "execution_count": 29,
     "metadata": {},
     "output_type": "execute_result"
    }
   ],
   "source": [
    "max_ind"
   ]
  },
  {
   "cell_type": "code",
   "execution_count": 30,
   "metadata": {
    "collapsed": false
   },
   "outputs": [
    {
     "data": {
      "text/plain": [
       "28"
      ]
     },
     "execution_count": 30,
     "metadata": {},
     "output_type": "execute_result"
    }
   ],
   "source": [
    "min_ind"
   ]
  },
  {
   "cell_type": "code",
   "execution_count": 31,
   "metadata": {
    "collapsed": false
   },
   "outputs": [
    {
     "data": {
      "text/plain": [
       "28"
      ]
     },
     "execution_count": 31,
     "metadata": {},
     "output_type": "execute_result"
    }
   ],
   "source": [
    "np.where(E30.signal == E30.maxima)[0][0]\n",
    "np.where(E30.signal == E30.minima)[0][0]"
   ]
  },
  {
   "cell_type": "code",
   "execution_count": 32,
   "metadata": {
    "collapsed": false
   },
   "outputs": [
    {
     "data": {
      "text/plain": [
       "20"
      ]
     },
     "execution_count": 32,
     "metadata": {},
     "output_type": "execute_result"
    }
   ],
   "source": [
    "np.where(E30.signal == E30.maxima)[0][0]"
   ]
  },
  {
   "cell_type": "code",
   "execution_count": 33,
   "metadata": {
    "collapsed": false
   },
   "outputs": [
    {
     "data": {
      "text/plain": [
       "28"
      ]
     },
     "execution_count": 33,
     "metadata": {},
     "output_type": "execute_result"
    }
   ],
   "source": [
    "np.where(E60.signal == E60.minima)[0][0]"
   ]
  },
  {
   "cell_type": "code",
   "execution_count": 34,
   "metadata": {
    "collapsed": false
   },
   "outputs": [
    {
     "data": {
      "text/plain": [
       "21"
      ]
     },
     "execution_count": 34,
     "metadata": {},
     "output_type": "execute_result"
    }
   ],
   "source": [
    "np.where(E60.signal == E60.maxima)[0][0]"
   ]
  },
  {
   "cell_type": "code",
   "execution_count": 2,
   "metadata": {
    "collapsed": false
   },
   "outputs": [
    {
     "name": "stdout",
     "output_type": "stream",
     "text": [
      "0.00412\n",
      "0.00412\n"
     ]
    }
   ],
   "source": [
    "data00 = pd.read_csv('/Users/manuelgodoy/Dropbox/Projects/Cenovus Weyburn Trials/Data/EPR_20161122_114638_035h.csv')\n",
    "data10 = pd.read_csv('/Users/manuelgodoy/Dropbox/Projects/Cenovus Weyburn Trials/Data/EPR_20161122_114157_074h.csv')\n",
    "df00 = e.SW_width(data00)\n",
    "df10 = e.SW_width(data10)\n",
    "E00 = e.EPR(df00['EPR'])\n",
    "E00.magnetic_field = df00['Field']\n",
    "E10 = e.EPR(df10['EPR'])\n",
    "E10.magnetic_field = df10['Field']\n",
    "print E00.width()\n",
    "print E10.width()"
   ]
  },
  {
   "cell_type": "code",
   "execution_count": 4,
   "metadata": {
    "collapsed": false
   },
   "outputs": [
    {
     "name": "stdout",
     "output_type": "stream",
     "text": [
      "0.00351\n",
      "0.003968\n"
     ]
    }
   ],
   "source": [
    "data00 = pd.read_csv('/Users/manuelgodoy/Dropbox/Projects/Cenovus Weyburn Trials/Data/EPR_20161122_113752_035h.csv')\n",
    "data10 = pd.read_csv('/Users/manuelgodoy/Dropbox/Projects/Cenovus Weyburn Trials/Data/EPR_20161122_115035_074h.csv')\n",
    "df00 = e.SW_width(data00)\n",
    "df10 = e.SW_width(data10)\n",
    "E00 = e.EPR(df00['EPR'])\n",
    "E00.magnetic_field = df00['Field']\n",
    "E10 = e.EPR(df10['EPR'])\n",
    "E10.magnetic_field = df10['Field']\n",
    "print E00.width()\n",
    "print E10.width()"
   ]
  },
  {
   "cell_type": "code",
   "execution_count": 5,
   "metadata": {
    "collapsed": false
   },
   "outputs": [
    {
     "name": "stdout",
     "output_type": "stream",
     "text": [
      "0.004425\n",
      "0.003356\n"
     ]
    }
   ],
   "source": [
    "data00 = pd.read_csv('/Users/manuelgodoy/Dropbox/Projects/Cenovus Weyburn Trials/Data/EPR_20161122_113414_035h.csv')\n",
    "data10 = pd.read_csv('/Users/manuelgodoy/Dropbox/Projects/Cenovus Weyburn Trials/Data/EPR_20161122_114259_074h.csv')\n",
    "df00 = e.SW_width(data00)\n",
    "df10 = e.SW_width(data10)\n",
    "E00 = e.EPR(df00['EPR'])\n",
    "E00.magnetic_field = df00['Field']\n",
    "E10 = e.EPR(df10['EPR'])\n",
    "E10.magnetic_field = df10['Field']\n",
    "print E00.width()\n",
    "print E10.width()"
   ]
  },
  {
   "cell_type": "code",
   "execution_count": null,
   "metadata": {
    "collapsed": true
   },
   "outputs": [],
   "source": []
  }
 ],
 "metadata": {
  "kernelspec": {
   "display_name": "Python 2",
   "language": "python",
   "name": "python2"
  },
  "language_info": {
   "codemirror_mode": {
    "name": "ipython",
    "version": 2
   },
   "file_extension": ".py",
   "mimetype": "text/x-python",
   "name": "python",
   "nbconvert_exporter": "python",
   "pygments_lexer": "ipython2",
   "version": "2.7.10"
  }
 },
 "nbformat": 4,
 "nbformat_minor": 0
}
